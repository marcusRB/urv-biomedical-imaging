{
 "cells": [
  {
   "cell_type": "markdown",
   "metadata": {},
   "source": [
    "# Medical imaging"
   ]
  },
  {
   "cell_type": "markdown",
   "metadata": {},
   "source": [
    "## Practicum 1: Computed Tomography Image Visualisation & Reconstruction\n",
    "Oct-Nov 2025\n",
    "=============================================================================================="
   ]
  },
  {
   "cell_type": "markdown",
   "metadata": {},
   "source": [
    "In this practicum, you will work with several topics covered in the theory sessions. In particular you will (1) simulate a simple and more complex phantoms, (2) apply Radom forward transformation to simulate the computed tomography (CT) projections over a single slice (i.e. sinograms) and (3) reconstruct the original phantom intensity values using different image reconstruction algorithms. In addition, the Shepp–Logan phantom will be used to analyse noise during reconstruction."
   ]
  },
  {
   "cell_type": "markdown",
   "metadata": {},
   "source": [
    "### Aims:\n",
    "- Generate simple and complex phantoms\n",
    "- Understand the principles of CT image reconstruction using a fan beam geometry with the aid of ``skimage``.\n",
    "- Be able to generate image projections (i.e. sinograms).\n",
    "- Reconstruct slices from simple and more complex objects (i.e. Shepp–Logan phantom) using back projection and iterative methods.\n",
    "- Analyse and compare reconstructed data with ground truth data.\n",
    "- Observe the difference between ideal (noise free) and noisy image reconstruction.\n",
    "\n",
    "``Remember to comment your code and provide some discussion on the results obtained for each section.``"
   ]
  },
  {
   "cell_type": "code",
   "execution_count": 9,
   "metadata": {},
   "outputs": [],
   "source": [
    "%matplotlib inline"
   ]
  },
  {
   "cell_type": "code",
   "execution_count": 2,
   "metadata": {},
   "outputs": [],
   "source": [
    "import numpy as np\n",
    "import matplotlib.pyplot as plt\n",
    "from skimage.transform import radon"
   ]
  },
  {
   "cell_type": "code",
   "execution_count": null,
   "metadata": {},
   "outputs": [],
   "source": []
  },
  {
   "cell_type": "code",
   "execution_count": null,
   "metadata": {},
   "outputs": [],
   "source": []
  },
  {
   "cell_type": "markdown",
   "metadata": {},
   "source": [
    "### 2.1 Visualise a lung CT dicom image and create a phantom (2 points)\n",
    "\n",
    "Open and visualise the Lung CT volume stored at the `LungCT-Diagnosis` folder. Read each of the indivdual `dcm` images, and display some 2D slices. Some basic image processing might be needed. Then, create a 3D phantom with the ribcages based on their HU and visualise the 3D rendering. Congratulations, you have created your first anthropomorphic phantom!\n",
    "\n",
    "<img src='images_4_notebook/LungPhantomImage.png' width=\"400\">\n",
    "\n",
    "\n",
    "<img src='images_4_notebook/LungPhantomRendering.png' width=\"400\">\n",
    "\n",
    "\n",
    "Data was taken from https://www.cancerimagingarchive.net/collection/lungct-diagnosis/ \n"
   ]
  },
  {
   "cell_type": "code",
   "execution_count": 2,
   "metadata": {},
   "outputs": [],
   "source": [
    "from pathlib import Path\n",
    "import numpy as np\n",
    "import matplotlib.pyplot as plt\n",
    "import pydicom as pdc\n",
    "from pydicom.filereader import dcmread\n",
    "from skimage.exposure import rescale_intensity\n",
    "from skimage.morphology import ball, binary_opening, binary_closing, remove_small_objects\n",
    "from skimage.measure import marching_cubes\n",
    "from scipy.ndimage import gaussian_filter\n",
    "import plotly.graph_objects as go"
   ]
  },
  {
   "cell_type": "code",
   "execution_count": 3,
   "metadata": {
    "scrolled": true
   },
   "outputs": [],
   "source": [
    "# ---------- 1) Read DICOM series ----------\n",
    "DATA_DIR = Path(\"LungCT-Diagnosis\")  # set to your dataset root\n",
    "\n",
    "def read_series(dicom_dir: Path):\n",
    "    files = sorted([p for p in dicom_dir.rglob(\"*.dcm\")])\n",
    "    assert files, f\"No DICOMs under {dicom_dir}\"\n",
    "    # read all headers to sort by position or instance\n",
    "    metas = []\n",
    "    for f in files:\n",
    "        ds = dcmread(str(f), stop_before_pixels=True, force=True)\n",
    "        z = None\n",
    "        if hasattr(ds, \"ImagePositionPatient\"):\n",
    "            z = float(ds.ImagePositionPatient[2])\n",
    "        inst = int(getattr(ds, \"InstanceNumber\", 0))\n",
    "        metas.append((f, z, inst))\n",
    "    # prefer ImagePositionPatient for sort, else InstanceNumber\n",
    "    if all(m[1] is not None for m in metas):\n",
    "        metas.sort(key=lambda x: x[1])\n",
    "    else:\n",
    "        metas.sort(key=lambda x: x[2])\n",
    "\n",
    "\n",
    "# insert your code here\n"
   ]
  },
  {
   "cell_type": "code",
   "execution_count": 4,
   "metadata": {
    "scrolled": true
   },
   "outputs": [],
   "source": [
    "# ---------- 2) 2D visualisation with window/level ----------\n",
    "\n",
    "# insert your code here\n"
   ]
  },
  {
   "cell_type": "code",
   "execution_count": 29,
   "metadata": {},
   "outputs": [
    {
     "name": "stdout",
     "output_type": "stream",
     "text": [
      "Bone voxels: 371037\n"
     ]
    }
   ],
   "source": [
    "# ---------- 3) Ribcage phantom via HU threshold ----------\n",
    "# Simple bone mask. Typical cortical bone > 300 HU.\n",
    "BONE_TH = 100.0\n",
    "bone_mask = vol_hu >= BONE_TH\n",
    "\n",
    "# insert your code here\n"
   ]
  },
  {
   "cell_type": "code",
   "execution_count": 5,
   "metadata": {
    "scrolled": true
   },
   "outputs": [],
   "source": [
    "# ---------- 4) 3D rendering with marching cubes ----------\n",
    "# Marching cubes expects z-y-x ordering and voxel spacing.\n",
    "\n",
    "\n",
    "# insert your code here\n"
   ]
  },
  {
   "cell_type": "markdown",
   "metadata": {},
   "source": [
    "### 2.2 Create a simple and homogeneous phantom (1.5 points)\n",
    "\n",
    "Create a more simple 2D phantom which contains a fake lesion as shown below:\n",
    "\n",
    "<img src='images_4_notebook/PhantomImage.png' width=\"400\">\n",
    "\n",
    "- Phantom size: 256 x 256 pixels.\n",
    "- Phantom must contain 3 tissues:\n",
    "    - Background = 0 pixel intensity value\n",
    "    - Tissue 1 = 1 (radius = 100 pixels)\n",
    "    - Tissue 2 (lesion) = 2 (radius = 5 pixels)\n",
    "    \n",
    "Help: To create the circunferences, you can use the function ``create_circular_mask``, or define your own function. The lesion could be located in any position within the phantom.\n",
    "\n",
    "Once constructed, plot the original phantom and a pixel intensity (horizontal) profile along the synthetic lesion. Always remember to include the units of the axis when ploting a graph."
   ]
  },
  {
   "cell_type": "code",
   "execution_count": null,
   "metadata": {},
   "outputs": [],
   "source": []
  },
  {
   "cell_type": "code",
   "execution_count": 23,
   "metadata": {},
   "outputs": [],
   "source": [
    "def create_circular_mask(h, w, center=None, radius=None):\n",
    "\n",
    "    if center is None: # use the middle of the image\n",
    "        center = (int(w/2), int(h/2))\n",
    "    if radius is None: # use the smallest distance between the center and image walls\n",
    "        radius = min(center[0], center[1], w-center[0], h-center[1])\n",
    "\n",
    "    Y, X = np.ogrid[:h, :w]\n",
    "    dist_from_center = np.sqrt((X - center[0])**2 + (Y-center[1])**2)\n",
    "\n",
    "    mask = dist_from_center <= radius\n",
    "    return mask\n",
    "# https://newbedev.com/how-can-i-create-a-circular-mask-for-a-numpy-array"
   ]
  },
  {
   "cell_type": "code",
   "execution_count": 1,
   "metadata": {},
   "outputs": [],
   "source": [
    "# insert your code here\n",
    "\n"
   ]
  },
  {
   "cell_type": "markdown",
   "metadata": {},
   "source": [
    "### 2.3 Create the projections of the phantom (2 points)\n",
    "\n",
    "Generate the projections of the previously generated 2D phantom using the ``radon`` transform from ``skimage.transform``. Play with the different parameters to optimise sinogram. Then, show the sinogram of the projections.\n",
    "\n",
    "In this section, considered the following approch:\n",
    "\n",
    "Use different number of projections (i.e. 4, 20, 50, 100, 200, 300, 360) considering that in all cases the simulated projections cover the 360º. For example, 100 projections are taken in the range from 0º to 360º.\n",
    "\n",
    "\n",
    "``Questions``: How do the sinograms changes with number of projections? What is the effect of increasing/decrasing the number of projections? "
   ]
  },
  {
   "cell_type": "code",
   "execution_count": 3,
   "metadata": {
    "scrolled": true
   },
   "outputs": [],
   "source": [
    "# insert your code here\n"
   ]
  },
  {
   "cell_type": "markdown",
   "metadata": {},
   "source": [
    "### 2.4 Reconstruction with Filtered Back Projection (FBP) (2.5 points)\n",
    "\n",
    "FBP is one of the most simple reconstruction methods to reconstruct images in CT. Explore the ``iradon`` from ``skimage.transform`` using the different filters available (Ramp filter (default), Shepp-logan, Cosine, Hamming, Hann). \n",
    "\n",
    "Make use of the ``matplotlib`` to show the original and reconstructed images of the phantom and compare the pixel intensity signal across the lesion profile (similarly to section 2.1).In addition, provide evaluation metric you could consider useful for this purpose (image difference, mean square error (MSE), peak signal to noise ratio (PSNR), structural index similarity (SSIM), etc.). Then, discuss the results."
   ]
  },
  {
   "cell_type": "code",
   "execution_count": 6,
   "metadata": {},
   "outputs": [],
   "source": [
    "# insert your code here\n"
   ]
  },
  {
   "cell_type": "markdown",
   "metadata": {},
   "source": [
    "### 2.5 Sheep logan phantom (2 points)\n",
    "\n",
    "So far we have used a quite simple phantom with only 2 tissues. Now, repeat the prior analysis for the **noisy sinogram** for one case (approach, filter,...) using a (slightly) more advanced head test object, the Sheep-logan phantom. Do you observe particular differences between the reconstrucction results from both phantoms? \n",
    "\n",
    "\n",
    "<img src='images_4_notebook/SheepLoganPhantom.png' width=\"1000\">\n",
    "\n",
    "\n",
    "\n",
    "In order to create **noisy sinograms**, you can add Poison noise (``np.random.poisson``; perhaps with lam = 10) to your noise-free sinograms (not to the image!) and reconstruct the phantom images with the different filters. Plot the reconstruction image and the (horizontal) intensity profile along specific row. Then, comment on the effects of the filters on the reconstructed phatom images.\n"
   ]
  },
  {
   "cell_type": "code",
   "execution_count": 31,
   "metadata": {},
   "outputs": [],
   "source": [
    "from skimage.data import shepp_logan_phantom\n",
    "\n",
    "logan_phantom = shepp_logan_phantom()\n",
    "\n",
    "\n",
    "# insert your code here\n",
    "\n"
   ]
  }
 ],
 "metadata": {
  "kernelspec": {
   "display_name": "Python 3 (ipykernel)",
   "language": "python",
   "name": "python3"
  },
  "language_info": {
   "codemirror_mode": {
    "name": "ipython",
    "version": 3
   },
   "file_extension": ".py",
   "mimetype": "text/x-python",
   "name": "python",
   "nbconvert_exporter": "python",
   "pygments_lexer": "ipython3",
   "version": "3.9.13"
  }
 },
 "nbformat": 4,
 "nbformat_minor": 4
}
